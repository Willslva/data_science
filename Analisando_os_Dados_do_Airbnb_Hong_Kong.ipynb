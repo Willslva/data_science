{
  "nbformat": 4,
  "nbformat_minor": 0,
  "metadata": {
    "colab": {
      "name": "Analisando os Dados do Airbnb - Hong Kong.ipynb",
      "provenance": [],
      "collapsed_sections": [],
      "include_colab_link": true
    },
    "kernelspec": {
      "name": "python3",
      "display_name": "Python 3"
    }
  },
  "cells": [
    {
      "cell_type": "markdown",
      "metadata": {
        "id": "view-in-github",
        "colab_type": "text"
      },
      "source": [
        "<a href=\"https://colab.research.google.com/github/Willslva/data_science/blob/main/Analisando_os_Dados_do_Airbnb_Hong_Kong.ipynb\" target=\"_parent\"><img src=\"https://colab.research.google.com/assets/colab-badge.svg\" alt=\"Open In Colab\"/></a>"
      ]
    },
    {
      "cell_type": "markdown",
      "metadata": {
        "id": "kLI0gJtzDGuQ"
      },
      "source": [
        "# Análise dos Dados do Airbnb - Hong Kong\n",
        "\n",
        "O [Airbnb](https://www.airbnb.com.br/) já é considerado como sendo a **maior empresa hoteleira da atualidade**. Ah, o detalhe é que ele **não possui nenhum hotel**!\n",
        "\n",
        "Conectando pessoas que querem viajar (e se hospedar) com anfitriões que querem alugar seus imóveis de maneira prática, o Airbnb fornece uma plataforma inovadora para tornar essa hospedagem alternativa.\n",
        "\n",
        "No final de 2018, a Startup fundada 10 anos atrás, já havia **hospedado mais de 300 milhões** de pessoas ao redor de todo o mundo, desafiando as redes hoteleiras tradicionais.\n",
        "\n",
        "Uma das iniciativas do Airbnb é disponibilizar dados do site, para algumas das principais cidades do mundo. Por meio do portal [Inside Airbnb](http://insideairbnb.com/get-the-data.html), é possível baixar uma grande quantidade de dados para desenvolver projetos e soluções de *Data Science*.\n",
        "\n",
        "<center><img alt=\"Analisando Airbnb\" width=\"10%\" src=\"https://www.area360.com.au/wp-content/uploads/2017/09/airbnb-logo.jpg\"></center>\n",
        "\n",
        "**Neste *notebook*, iremos analisar os dados referentes à cidade Hong Kong, e ver quais insights podem ser extraídos a partir de dados brutos.**"
      ]
    },
    {
      "cell_type": "markdown",
      "source": [
        "#Overview de Hong Kong\n",
        "\n",
        "Como um dos principais centros financeiros internacionais, Hong Kong tem uma grande economia de serviço capitalista caracterizada pelo baixo nível de impostos e pelo livre comércio, sendo que a sua moeda, o dólar de Hong Kong, é a oitava mais negociada no mundo. \n",
        "\n",
        "Hong Kong tem várias boas colocações em classificações internacionais de vários temas. Por exemplo, sua liberdade e competitividade econômica e financeira, qualidade de vida, percepção de corrupção e Índice de Desenvolvimento Humano (IDH) estão todos classificados nas mais altas posições.\n",
        "\n",
        "<center><img alt=\"Hong Kong vista do Victoria Peak em 2019\" width=\"80%\" src=\"https://upload.wikimedia.org/wikipedia/commons/thumb/a/a4/Hong_Kong_Harbour_Night_2019-06-11.jpg/800px-Hong_Kong_Harbour_Night_2019-06-11.jpg\"></center>\n",
        "\n",
        "É preciso levar em conta o que fazer em Hong Kong com chuva, porque durante o verão, o calor e a umidade são intensos. A época mais chuvosa do ano vai de maio a setembro, e justamente por isso a época é considerada baixa temporada. \n",
        "\n",
        "Durante os meses de junho e setembro podem ocorrer ciclones, tufões, tempestades de vento e temporais na cidade, mas é apenas uma possibilidade, não uma certeza. O período mais seco vai de novembro a fevereiro.\n",
        "\n",
        "**Mas afinal quando ir em Hong Kong?** \n",
        "Uma boa dica seria viajar entre os meses de outubro e janeiro, assim você não tem que encarar o calor excessivo do verão e nem o ar seco do inverno. Mas se quiser economizar e confiar na sorte, a melhor época é de maio a setembro.\n",
        "\n"
      ],
      "metadata": {
        "id": "qq5E03nlmZsm"
      }
    },
    {
      "cell_type": "markdown",
      "metadata": {
        "id": "0zxQHhIUDF_2"
      },
      "source": [
        "# Importando Pacotes\n",
        "Todos os dados utilizados aqui foram obtidos a partir do portal [Inside Airbnb](http://insideairbnb.com/get-the-data.html).\n",
        "\n",
        "Para esta análise exploratória inicial, será baixado apenas o seguinte arquivo:\n",
        "\n",
        "* 'listings.csv' - Summary information and metrics for listings Hong Kong"
      ]
    },
    {
      "cell_type": "code",
      "metadata": {
        "id": "Vhp2wMPgJ6zX"
      },
      "source": [
        "# importar os pacotes necessarios\n",
        "import warnings \n",
        "warnings.filterwarnings('ignore')\n",
        "\n",
        "import pandas as pd\n",
        "import numpy as np\n",
        "import matplotlib.pyplot as plt\n",
        "import seaborn as sns\n",
        "from matplotlib import cm\n",
        "\n",
        "# configurando a visualização\n",
        "sns.set_style()\n",
        "%matplotlib inline"
      ],
      "execution_count": null,
      "outputs": []
    },
    {
      "cell_type": "code",
      "metadata": {
        "id": "tUmoAT8DLQ5T"
      },
      "source": [
        "# importar o arquivo listings.csv para um DataFrame\n",
        "df = pd.read_csv(\"http://data.insideairbnb.com/china/hk/hong-kong/2021-10-22/visualisations/listings.csv\")"
      ],
      "execution_count": null,
      "outputs": []
    },
    {
      "cell_type": "markdown",
      "metadata": {
        "id": "qb5By2nIMS6m"
      },
      "source": [
        "# Dicionário das Variáveis\n"
      ]
    },
    {
      "cell_type": "markdown",
      "metadata": {
        "id": "RYgvuebKNg8-"
      },
      "source": [
        "\n",
        "**Variáveis referentes ao proprietário**\n",
        "* host_id - número do identificador do proprietário do imóvel\n",
        "* host_name - nome do proprietário\n",
        "* calculated_host_listings_count - quantidade de imóveis do mesmo proprietário\n",
        "\n",
        "**Variáveis referentes ao imóvel**\n",
        "* id - número do identificador do imóvel\n",
        "* name - nome da propriedade anunciada\n",
        "* room_type - tipo do quarto que é oferecido\n",
        "* price - preço para alugar o imóvel\n",
        "* mininum_nights - quantidade mínima de noites para reservar\n",
        "* number_of_reviews - número de reviews que a propriedade possui\n",
        "* last_review - data da última review\n",
        "* reviews_per_month - quantidade de reviews por mês\n",
        "* availability_365 - número de dias de disponibilidade do imóvel dentro de 365 dias \n",
        "* number_of_reviews_ltm - número de comentários realizado para o imóvel\n",
        "\n",
        "**Variáveis referentes a localização do imóvel**\n",
        "* neighbourhood_group - essa coluna não tem valores válidos\n",
        "* license - essa coluna não tem valores válidos\n",
        "* neighbourhood - nome do bairro\n",
        "* latitude - coordenada da latitude da propriedade\n",
        "* longitude - coordenada da longitude da propriedade\n",
        "\n",
        "\n",
        "\n",
        "\n",
        "\n",
        "\n",
        "\n",
        "\n",
        "\n",
        "Antes de iniciar qualquer análise, vamos verificar a cara do nosso *dataset*, analisando as 5 primeiras entradas."
      ]
    },
    {
      "cell_type": "markdown",
      "source": [
        "Antes de iniciar de análise dos dados importados é importante saber quais perguntas devemos responder durante nosso caminho de descobertas. A seguir é apresentado as perguntas que foram formaladas para o presente estudo, que serão respondidas por meio da análise exploratória dos dados do Airbnb referente a Hong Kong.\n",
        "\n",
        "* **`Q1.Quantas entradas e variáveis (colunas do dataset) o conjunto de dados possui? E quais os tipos de variáveis?`**\n",
        "* **`Q2.Qual a porcentagem de valores ausentes no dataset?`**\n",
        "* **`Q3.Há outliers?`**\n",
        "* **`Q4.Qual a média de preços de imóveis alugados?`**\n",
        "* **`Q5.Qual o tipo de imóvel mais alugado?`**\n",
        "* **`Q6.Quais os bairros mais caros e baratos disponíveis em Hong Kong?`**\n",
        "* **`Q7.Qual o mínimo de noites de hospedagem?`**\n",
        "* **`Q8.Como está distribuido por localidade os bairros que hospedam turistas em Hong Kong?`**"
      ],
      "metadata": {
        "id": "I9s11GTcxhjO"
      }
    },
    {
      "cell_type": "markdown",
      "source": [
        "# Explorando o Dataset"
      ],
      "metadata": {
        "id": "XyZCwxVP0CNT"
      }
    },
    {
      "cell_type": "markdown",
      "source": [
        "**Quantas entradas e variáveis (colunas do dataset) o conjunto de dados possui? E quais os tipos de variáveis?`**\n",
        "\n",
        "<p>Identificamos que nosso conjunto de dados tem 6084 entradas e possui 18 colunas (variáveis).</p>\n",
        "\n",
        "O próximo passo é verificar se todas nossas variáveis tem de fato o tipo correto de dado. Em relação a isso foi notado que todas as variáveis estavam com seus tipos de dados corretos, exceto a variável **last_review** sendo a data da última review com **objeto** que é tipo de dado recomendado para variáveis que guarda conteúdo textual.\n",
        "\n",
        "Então foi modificado o tipo de dado de **last_review** para \n",
        "**datetime64** que é o tipo correto de dado para a mesma.\n"
      ],
      "metadata": {
        "id": "-AGcIQ5p0Y7w"
      }
    },
    {
      "cell_type": "code",
      "metadata": {
        "id": "2iS_dae7YQtO",
        "colab": {
          "base_uri": "https://localhost:8080/",
          "height": 634
        },
        "outputId": "e36625b7-e7cb-4c27-adb1-289bd6e6b689"
      },
      "source": [
        "# mostrar as 5 primeiras entradas\n",
        "df.head()"
      ],
      "execution_count": null,
      "outputs": [
        {
          "output_type": "execute_result",
          "data": {
            "text/html": [
              "\n",
              "  <div id=\"df-e5d2f9a4-d7d0-446a-b5e3-b14c823df20c\">\n",
              "    <div class=\"colab-df-container\">\n",
              "      <div>\n",
              "<style scoped>\n",
              "    .dataframe tbody tr th:only-of-type {\n",
              "        vertical-align: middle;\n",
              "    }\n",
              "\n",
              "    .dataframe tbody tr th {\n",
              "        vertical-align: top;\n",
              "    }\n",
              "\n",
              "    .dataframe thead th {\n",
              "        text-align: right;\n",
              "    }\n",
              "</style>\n",
              "<table border=\"1\" class=\"dataframe\">\n",
              "  <thead>\n",
              "    <tr style=\"text-align: right;\">\n",
              "      <th></th>\n",
              "      <th>id</th>\n",
              "      <th>name</th>\n",
              "      <th>host_id</th>\n",
              "      <th>host_name</th>\n",
              "      <th>neighbourhood_group</th>\n",
              "      <th>neighbourhood</th>\n",
              "      <th>latitude</th>\n",
              "      <th>longitude</th>\n",
              "      <th>room_type</th>\n",
              "      <th>price</th>\n",
              "      <th>minimum_nights</th>\n",
              "      <th>number_of_reviews</th>\n",
              "      <th>last_review</th>\n",
              "      <th>reviews_per_month</th>\n",
              "      <th>calculated_host_listings_count</th>\n",
              "      <th>availability_365</th>\n",
              "      <th>number_of_reviews_ltm</th>\n",
              "      <th>license</th>\n",
              "    </tr>\n",
              "  </thead>\n",
              "  <tbody>\n",
              "    <tr>\n",
              "      <th>0</th>\n",
              "      <td>17891</td>\n",
              "      <td>Large Light Filled Loft</td>\n",
              "      <td>69063</td>\n",
              "      <td>Candace</td>\n",
              "      <td>NaN</td>\n",
              "      <td>Central &amp; Western</td>\n",
              "      <td>22.28327</td>\n",
              "      <td>114.14988</td>\n",
              "      <td>Entire home/apt</td>\n",
              "      <td>1400</td>\n",
              "      <td>60</td>\n",
              "      <td>73</td>\n",
              "      <td>2017-11-29</td>\n",
              "      <td>1.07</td>\n",
              "      <td>1</td>\n",
              "      <td>0</td>\n",
              "      <td>0</td>\n",
              "      <td>NaN</td>\n",
              "    </tr>\n",
              "    <tr>\n",
              "      <th>1</th>\n",
              "      <td>69074</td>\n",
              "      <td>Beautiful oasis of plants &amp; art @ best location</td>\n",
              "      <td>160139</td>\n",
              "      <td>Amy</td>\n",
              "      <td>NaN</td>\n",
              "      <td>Central &amp; Western</td>\n",
              "      <td>22.28350</td>\n",
              "      <td>114.14854</td>\n",
              "      <td>Entire home/apt</td>\n",
              "      <td>1497</td>\n",
              "      <td>2</td>\n",
              "      <td>135</td>\n",
              "      <td>2019-08-03</td>\n",
              "      <td>1.19</td>\n",
              "      <td>1</td>\n",
              "      <td>131</td>\n",
              "      <td>1</td>\n",
              "      <td>NaN</td>\n",
              "    </tr>\n",
              "    <tr>\n",
              "      <th>2</th>\n",
              "      <td>103760</td>\n",
              "      <td>Central Centre 5 min walk to/from Central MTR</td>\n",
              "      <td>304876</td>\n",
              "      <td>Brend</td>\n",
              "      <td>NaN</td>\n",
              "      <td>Central &amp; Western</td>\n",
              "      <td>22.28418</td>\n",
              "      <td>114.15431</td>\n",
              "      <td>Entire home/apt</td>\n",
              "      <td>614</td>\n",
              "      <td>2</td>\n",
              "      <td>274</td>\n",
              "      <td>2019-11-17</td>\n",
              "      <td>3.05</td>\n",
              "      <td>9</td>\n",
              "      <td>247</td>\n",
              "      <td>2</td>\n",
              "      <td>NaN</td>\n",
              "    </tr>\n",
              "    <tr>\n",
              "      <th>3</th>\n",
              "      <td>104626</td>\n",
              "      <td>Entire Flat - Next to Man Mo Temple</td>\n",
              "      <td>544166</td>\n",
              "      <td>Celine</td>\n",
              "      <td>NaN</td>\n",
              "      <td>Central &amp; Western</td>\n",
              "      <td>22.28360</td>\n",
              "      <td>114.14790</td>\n",
              "      <td>Entire home/apt</td>\n",
              "      <td>2533</td>\n",
              "      <td>1</td>\n",
              "      <td>14</td>\n",
              "      <td>2012-01-13</td>\n",
              "      <td>0.12</td>\n",
              "      <td>1</td>\n",
              "      <td>365</td>\n",
              "      <td>0</td>\n",
              "      <td>NaN</td>\n",
              "    </tr>\n",
              "    <tr>\n",
              "      <th>4</th>\n",
              "      <td>132773</td>\n",
              "      <td>Fabulous 2 Bdrm Aprt Open kitchen</td>\n",
              "      <td>304876</td>\n",
              "      <td>Brend</td>\n",
              "      <td>NaN</td>\n",
              "      <td>Central &amp; Western</td>\n",
              "      <td>22.28921</td>\n",
              "      <td>114.14325</td>\n",
              "      <td>Entire home/apt</td>\n",
              "      <td>847</td>\n",
              "      <td>2</td>\n",
              "      <td>209</td>\n",
              "      <td>2020-08-07</td>\n",
              "      <td>2.45</td>\n",
              "      <td>9</td>\n",
              "      <td>144</td>\n",
              "      <td>2</td>\n",
              "      <td>NaN</td>\n",
              "    </tr>\n",
              "  </tbody>\n",
              "</table>\n",
              "</div>\n",
              "      <button class=\"colab-df-convert\" onclick=\"convertToInteractive('df-e5d2f9a4-d7d0-446a-b5e3-b14c823df20c')\"\n",
              "              title=\"Convert this dataframe to an interactive table.\"\n",
              "              style=\"display:none;\">\n",
              "        \n",
              "  <svg xmlns=\"http://www.w3.org/2000/svg\" height=\"24px\"viewBox=\"0 0 24 24\"\n",
              "       width=\"24px\">\n",
              "    <path d=\"M0 0h24v24H0V0z\" fill=\"none\"/>\n",
              "    <path d=\"M18.56 5.44l.94 2.06.94-2.06 2.06-.94-2.06-.94-.94-2.06-.94 2.06-2.06.94zm-11 1L8.5 8.5l.94-2.06 2.06-.94-2.06-.94L8.5 2.5l-.94 2.06-2.06.94zm10 10l.94 2.06.94-2.06 2.06-.94-2.06-.94-.94-2.06-.94 2.06-2.06.94z\"/><path d=\"M17.41 7.96l-1.37-1.37c-.4-.4-.92-.59-1.43-.59-.52 0-1.04.2-1.43.59L10.3 9.45l-7.72 7.72c-.78.78-.78 2.05 0 2.83L4 21.41c.39.39.9.59 1.41.59.51 0 1.02-.2 1.41-.59l7.78-7.78 2.81-2.81c.8-.78.8-2.07 0-2.86zM5.41 20L4 18.59l7.72-7.72 1.47 1.35L5.41 20z\"/>\n",
              "  </svg>\n",
              "      </button>\n",
              "      \n",
              "  <style>\n",
              "    .colab-df-container {\n",
              "      display:flex;\n",
              "      flex-wrap:wrap;\n",
              "      gap: 12px;\n",
              "    }\n",
              "\n",
              "    .colab-df-convert {\n",
              "      background-color: #E8F0FE;\n",
              "      border: none;\n",
              "      border-radius: 50%;\n",
              "      cursor: pointer;\n",
              "      display: none;\n",
              "      fill: #1967D2;\n",
              "      height: 32px;\n",
              "      padding: 0 0 0 0;\n",
              "      width: 32px;\n",
              "    }\n",
              "\n",
              "    .colab-df-convert:hover {\n",
              "      background-color: #E2EBFA;\n",
              "      box-shadow: 0px 1px 2px rgba(60, 64, 67, 0.3), 0px 1px 3px 1px rgba(60, 64, 67, 0.15);\n",
              "      fill: #174EA6;\n",
              "    }\n",
              "\n",
              "    [theme=dark] .colab-df-convert {\n",
              "      background-color: #3B4455;\n",
              "      fill: #D2E3FC;\n",
              "    }\n",
              "\n",
              "    [theme=dark] .colab-df-convert:hover {\n",
              "      background-color: #434B5C;\n",
              "      box-shadow: 0px 1px 3px 1px rgba(0, 0, 0, 0.15);\n",
              "      filter: drop-shadow(0px 1px 2px rgba(0, 0, 0, 0.3));\n",
              "      fill: #FFFFFF;\n",
              "    }\n",
              "  </style>\n",
              "\n",
              "      <script>\n",
              "        const buttonEl =\n",
              "          document.querySelector('#df-e5d2f9a4-d7d0-446a-b5e3-b14c823df20c button.colab-df-convert');\n",
              "        buttonEl.style.display =\n",
              "          google.colab.kernel.accessAllowed ? 'block' : 'none';\n",
              "\n",
              "        async function convertToInteractive(key) {\n",
              "          const element = document.querySelector('#df-e5d2f9a4-d7d0-446a-b5e3-b14c823df20c');\n",
              "          const dataTable =\n",
              "            await google.colab.kernel.invokeFunction('convertToInteractive',\n",
              "                                                     [key], {});\n",
              "          if (!dataTable) return;\n",
              "\n",
              "          const docLinkHtml = 'Like what you see? Visit the ' +\n",
              "            '<a target=\"_blank\" href=https://colab.research.google.com/notebooks/data_table.ipynb>data table notebook</a>'\n",
              "            + ' to learn more about interactive tables.';\n",
              "          element.innerHTML = '';\n",
              "          dataTable['output_type'] = 'display_data';\n",
              "          await google.colab.output.renderOutput(dataTable, element);\n",
              "          const docLink = document.createElement('div');\n",
              "          docLink.innerHTML = docLinkHtml;\n",
              "          element.appendChild(docLink);\n",
              "        }\n",
              "      </script>\n",
              "    </div>\n",
              "  </div>\n",
              "  "
            ],
            "text/plain": [
              "       id  ... license\n",
              "0   17891  ...     NaN\n",
              "1   69074  ...     NaN\n",
              "2  103760  ...     NaN\n",
              "3  104626  ...     NaN\n",
              "4  132773  ...     NaN\n",
              "\n",
              "[5 rows x 18 columns]"
            ]
          },
          "metadata": {},
          "execution_count": 3
        }
      ]
    },
    {
      "cell_type": "code",
      "source": [
        "# mostrar as 5 últimas entradas\n",
        "df.tail()"
      ],
      "metadata": {
        "colab": {
          "base_uri": "https://localhost:8080/",
          "height": 513
        },
        "id": "0DDIIkHK05gb",
        "outputId": "e78d548b-f951-4b4f-a9c8-142ac666d2ad"
      },
      "execution_count": null,
      "outputs": [
        {
          "output_type": "execute_result",
          "data": {
            "text/html": [
              "\n",
              "  <div id=\"df-8eadfe00-0a03-4646-8d2e-d978dc7b1ad2\">\n",
              "    <div class=\"colab-df-container\">\n",
              "      <div>\n",
              "<style scoped>\n",
              "    .dataframe tbody tr th:only-of-type {\n",
              "        vertical-align: middle;\n",
              "    }\n",
              "\n",
              "    .dataframe tbody tr th {\n",
              "        vertical-align: top;\n",
              "    }\n",
              "\n",
              "    .dataframe thead th {\n",
              "        text-align: right;\n",
              "    }\n",
              "</style>\n",
              "<table border=\"1\" class=\"dataframe\">\n",
              "  <thead>\n",
              "    <tr style=\"text-align: right;\">\n",
              "      <th></th>\n",
              "      <th>id</th>\n",
              "      <th>name</th>\n",
              "      <th>host_id</th>\n",
              "      <th>host_name</th>\n",
              "      <th>neighbourhood_group</th>\n",
              "      <th>neighbourhood</th>\n",
              "      <th>latitude</th>\n",
              "      <th>longitude</th>\n",
              "      <th>room_type</th>\n",
              "      <th>price</th>\n",
              "      <th>minimum_nights</th>\n",
              "      <th>number_of_reviews</th>\n",
              "      <th>last_review</th>\n",
              "      <th>reviews_per_month</th>\n",
              "      <th>calculated_host_listings_count</th>\n",
              "      <th>availability_365</th>\n",
              "      <th>number_of_reviews_ltm</th>\n",
              "      <th>license</th>\n",
              "    </tr>\n",
              "  </thead>\n",
              "  <tbody>\n",
              "    <tr>\n",
              "      <th>6079</th>\n",
              "      <td>52909143</td>\n",
              "      <td>A 2ppl Double Bed HKManStudio 1min CausewayBay...</td>\n",
              "      <td>25048995</td>\n",
              "      <td>Moey</td>\n",
              "      <td>NaN</td>\n",
              "      <td>Wan Chai</td>\n",
              "      <td>22.280871</td>\n",
              "      <td>114.184678</td>\n",
              "      <td>Private room</td>\n",
              "      <td>270</td>\n",
              "      <td>1</td>\n",
              "      <td>0</td>\n",
              "      <td>NaN</td>\n",
              "      <td>NaN</td>\n",
              "      <td>17</td>\n",
              "      <td>41</td>\n",
              "      <td>0</td>\n",
              "      <td>NaN</td>\n",
              "    </tr>\n",
              "    <tr>\n",
              "      <th>6080</th>\n",
              "      <td>52909688</td>\n",
              "      <td>尖沙咀地鐵口實惠床位</td>\n",
              "      <td>99505769</td>\n",
              "      <td>Cc</td>\n",
              "      <td>NaN</td>\n",
              "      <td>Yau Tsim Mong</td>\n",
              "      <td>22.298899</td>\n",
              "      <td>114.172201</td>\n",
              "      <td>Private room</td>\n",
              "      <td>62</td>\n",
              "      <td>30</td>\n",
              "      <td>0</td>\n",
              "      <td>NaN</td>\n",
              "      <td>NaN</td>\n",
              "      <td>5</td>\n",
              "      <td>359</td>\n",
              "      <td>0</td>\n",
              "      <td>NaN</td>\n",
              "    </tr>\n",
              "    <tr>\n",
              "      <th>6081</th>\n",
              "      <td>52909988</td>\n",
              "      <td>A 2ppl Double Bed HKManStudio 1min CausewayBay...</td>\n",
              "      <td>25048995</td>\n",
              "      <td>Moey</td>\n",
              "      <td>NaN</td>\n",
              "      <td>Wan Chai</td>\n",
              "      <td>22.279056</td>\n",
              "      <td>114.184477</td>\n",
              "      <td>Private room</td>\n",
              "      <td>270</td>\n",
              "      <td>28</td>\n",
              "      <td>0</td>\n",
              "      <td>NaN</td>\n",
              "      <td>NaN</td>\n",
              "      <td>17</td>\n",
              "      <td>365</td>\n",
              "      <td>0</td>\n",
              "      <td>NaN</td>\n",
              "    </tr>\n",
              "    <tr>\n",
              "      <th>6082</th>\n",
              "      <td>52925818</td>\n",
              "      <td>Luxury Bali living in Hong Kong</td>\n",
              "      <td>24613748</td>\n",
              "      <td>Jeff</td>\n",
              "      <td>NaN</td>\n",
              "      <td>Wan Chai</td>\n",
              "      <td>22.267564</td>\n",
              "      <td>114.181842</td>\n",
              "      <td>Entire home/apt</td>\n",
              "      <td>5000</td>\n",
              "      <td>2</td>\n",
              "      <td>0</td>\n",
              "      <td>NaN</td>\n",
              "      <td>NaN</td>\n",
              "      <td>1</td>\n",
              "      <td>8</td>\n",
              "      <td>0</td>\n",
              "      <td>NaN</td>\n",
              "    </tr>\n",
              "    <tr>\n",
              "      <th>6083</th>\n",
              "      <td>52929649</td>\n",
              "      <td>Full House with pool and amazing outside area</td>\n",
              "      <td>51790133</td>\n",
              "      <td>Remi</td>\n",
              "      <td>NaN</td>\n",
              "      <td>Sai Kung</td>\n",
              "      <td>22.303349</td>\n",
              "      <td>114.296364</td>\n",
              "      <td>Entire home/apt</td>\n",
              "      <td>5000</td>\n",
              "      <td>5</td>\n",
              "      <td>0</td>\n",
              "      <td>NaN</td>\n",
              "      <td>NaN</td>\n",
              "      <td>1</td>\n",
              "      <td>96</td>\n",
              "      <td>0</td>\n",
              "      <td>NaN</td>\n",
              "    </tr>\n",
              "  </tbody>\n",
              "</table>\n",
              "</div>\n",
              "      <button class=\"colab-df-convert\" onclick=\"convertToInteractive('df-8eadfe00-0a03-4646-8d2e-d978dc7b1ad2')\"\n",
              "              title=\"Convert this dataframe to an interactive table.\"\n",
              "              style=\"display:none;\">\n",
              "        \n",
              "  <svg xmlns=\"http://www.w3.org/2000/svg\" height=\"24px\"viewBox=\"0 0 24 24\"\n",
              "       width=\"24px\">\n",
              "    <path d=\"M0 0h24v24H0V0z\" fill=\"none\"/>\n",
              "    <path d=\"M18.56 5.44l.94 2.06.94-2.06 2.06-.94-2.06-.94-.94-2.06-.94 2.06-2.06.94zm-11 1L8.5 8.5l.94-2.06 2.06-.94-2.06-.94L8.5 2.5l-.94 2.06-2.06.94zm10 10l.94 2.06.94-2.06 2.06-.94-2.06-.94-.94-2.06-.94 2.06-2.06.94z\"/><path d=\"M17.41 7.96l-1.37-1.37c-.4-.4-.92-.59-1.43-.59-.52 0-1.04.2-1.43.59L10.3 9.45l-7.72 7.72c-.78.78-.78 2.05 0 2.83L4 21.41c.39.39.9.59 1.41.59.51 0 1.02-.2 1.41-.59l7.78-7.78 2.81-2.81c.8-.78.8-2.07 0-2.86zM5.41 20L4 18.59l7.72-7.72 1.47 1.35L5.41 20z\"/>\n",
              "  </svg>\n",
              "      </button>\n",
              "      \n",
              "  <style>\n",
              "    .colab-df-container {\n",
              "      display:flex;\n",
              "      flex-wrap:wrap;\n",
              "      gap: 12px;\n",
              "    }\n",
              "\n",
              "    .colab-df-convert {\n",
              "      background-color: #E8F0FE;\n",
              "      border: none;\n",
              "      border-radius: 50%;\n",
              "      cursor: pointer;\n",
              "      display: none;\n",
              "      fill: #1967D2;\n",
              "      height: 32px;\n",
              "      padding: 0 0 0 0;\n",
              "      width: 32px;\n",
              "    }\n",
              "\n",
              "    .colab-df-convert:hover {\n",
              "      background-color: #E2EBFA;\n",
              "      box-shadow: 0px 1px 2px rgba(60, 64, 67, 0.3), 0px 1px 3px 1px rgba(60, 64, 67, 0.15);\n",
              "      fill: #174EA6;\n",
              "    }\n",
              "\n",
              "    [theme=dark] .colab-df-convert {\n",
              "      background-color: #3B4455;\n",
              "      fill: #D2E3FC;\n",
              "    }\n",
              "\n",
              "    [theme=dark] .colab-df-convert:hover {\n",
              "      background-color: #434B5C;\n",
              "      box-shadow: 0px 1px 3px 1px rgba(0, 0, 0, 0.15);\n",
              "      filter: drop-shadow(0px 1px 2px rgba(0, 0, 0, 0.3));\n",
              "      fill: #FFFFFF;\n",
              "    }\n",
              "  </style>\n",
              "\n",
              "      <script>\n",
              "        const buttonEl =\n",
              "          document.querySelector('#df-8eadfe00-0a03-4646-8d2e-d978dc7b1ad2 button.colab-df-convert');\n",
              "        buttonEl.style.display =\n",
              "          google.colab.kernel.accessAllowed ? 'block' : 'none';\n",
              "\n",
              "        async function convertToInteractive(key) {\n",
              "          const element = document.querySelector('#df-8eadfe00-0a03-4646-8d2e-d978dc7b1ad2');\n",
              "          const dataTable =\n",
              "            await google.colab.kernel.invokeFunction('convertToInteractive',\n",
              "                                                     [key], {});\n",
              "          if (!dataTable) return;\n",
              "\n",
              "          const docLinkHtml = 'Like what you see? Visit the ' +\n",
              "            '<a target=\"_blank\" href=https://colab.research.google.com/notebooks/data_table.ipynb>data table notebook</a>'\n",
              "            + ' to learn more about interactive tables.';\n",
              "          element.innerHTML = '';\n",
              "          dataTable['output_type'] = 'display_data';\n",
              "          await google.colab.output.renderOutput(dataTable, element);\n",
              "          const docLink = document.createElement('div');\n",
              "          docLink.innerHTML = docLinkHtml;\n",
              "          element.appendChild(docLink);\n",
              "        }\n",
              "      </script>\n",
              "    </div>\n",
              "  </div>\n",
              "  "
            ],
            "text/plain": [
              "            id  ... license\n",
              "6079  52909143  ...     NaN\n",
              "6080  52909688  ...     NaN\n",
              "6081  52909988  ...     NaN\n",
              "6082  52925818  ...     NaN\n",
              "6083  52929649  ...     NaN\n",
              "\n",
              "[5 rows x 18 columns]"
            ]
          },
          "metadata": {},
          "execution_count": 4
        }
      ]
    },
    {
      "cell_type": "code",
      "source": [
        "# identificar o volume de dados do DataFrame\n",
        "print (\"Entradas:\\t {}\".format(df.shape[0]))\n",
        "print (\"Variáveis:\\t {}\\n\".format(df.shape[1]))\n",
        "# verificar as 5 primeiras entradas do dataset\n",
        "df.info()"
      ],
      "metadata": {
        "colab": {
          "base_uri": "https://localhost:8080/"
        },
        "id": "UP1XfeeG0iFx",
        "outputId": "b2e2196f-eac7-4dd7-ef25-741ac1566260"
      },
      "execution_count": null,
      "outputs": [
        {
          "output_type": "stream",
          "name": "stdout",
          "text": [
            "Entradas:\t 6084\n",
            "Variáveis:\t 18\n",
            "\n",
            "<class 'pandas.core.frame.DataFrame'>\n",
            "RangeIndex: 6084 entries, 0 to 6083\n",
            "Data columns (total 18 columns):\n",
            " #   Column                          Non-Null Count  Dtype  \n",
            "---  ------                          --------------  -----  \n",
            " 0   id                              6084 non-null   int64  \n",
            " 1   name                            6083 non-null   object \n",
            " 2   host_id                         6084 non-null   int64  \n",
            " 3   host_name                       6084 non-null   object \n",
            " 4   neighbourhood_group             0 non-null      float64\n",
            " 5   neighbourhood                   6084 non-null   object \n",
            " 6   latitude                        6084 non-null   float64\n",
            " 7   longitude                       6084 non-null   float64\n",
            " 8   room_type                       6084 non-null   object \n",
            " 9   price                           6084 non-null   int64  \n",
            " 10  minimum_nights                  6084 non-null   int64  \n",
            " 11  number_of_reviews               6084 non-null   int64  \n",
            " 12  last_review                     2976 non-null   object \n",
            " 13  reviews_per_month               2976 non-null   float64\n",
            " 14  calculated_host_listings_count  6084 non-null   int64  \n",
            " 15  availability_365                6084 non-null   int64  \n",
            " 16  number_of_reviews_ltm           6084 non-null   int64  \n",
            " 17  license                         0 non-null      float64\n",
            "dtypes: float64(5), int64(8), object(5)\n",
            "memory usage: 855.7+ KB\n"
          ]
        }
      ]
    },
    {
      "cell_type": "code",
      "source": [
        "# modificando o tipo de dado de last_review para datetime64\n",
        "df.last_review = pd.to_datetime(df.last_review, format=\"%Y/%m/%d\")"
      ],
      "metadata": {
        "id": "Pci4g6Al2pBf"
      },
      "execution_count": null,
      "outputs": []
    },
    {
      "cell_type": "markdown",
      "metadata": {
        "id": "6-B_qtEaYEd-"
      },
      "source": [
        "\n",
        "# Limpeza do Dataset"
      ]
    },
    {
      "cell_type": "markdown",
      "source": [
        "**Qual a porcentagem de valores ausentes no dataset?**\n",
        "\n",
        "A qualidade de um dataset esta direcionada relacionada à quantidade de valores ausentes. É importante entender logo no início se esses valores nulos são significativos comparados ao total de entradas.\n",
        "\n",
        "* É possível ver que a coluna `neighbourhood_group` e `license` possui 100% dos seus valores faltantes. \n",
        "* As variáveis `reviews_per_month` e `last_review` possuem valores nulos em quase 49% das linhas.\n",
        "* As variáveis `name`  têm aproximadamente 0,1% dos valores nulos.\n",
        "\n",
        "Foi decidido excluir as colunas `neighbourhood_group` e `license`, e essa ação não reduziria o número de entradas permanecendo 6084 entradas. Todavia foi excluido as linhas que tivesse valores ausentes e nosso dataset possui atualmente 2975 entradas.\n",
        "\n"
      ],
      "metadata": {
        "id": "B2QCB1MG1Efk"
      }
    },
    {
      "cell_type": "markdown",
      "source": [
        "### **Valores Ausentes**"
      ],
      "metadata": {
        "id": "J4G47qPk2PLv"
      }
    },
    {
      "cell_type": "code",
      "metadata": {
        "id": "plk2FjbCXOqP",
        "colab": {
          "base_uri": "https://localhost:8080/"
        },
        "outputId": "864795fb-b424-4ced-90b6-db049c7b249b"
      },
      "source": [
        "# ordenar em ordem decrescente as variáveis por seus valores ausentes\n",
        "(df.isnull().sum() / df.shape[0]).sort_values(ascending=False)"
      ],
      "execution_count": null,
      "outputs": [
        {
          "output_type": "execute_result",
          "data": {
            "text/plain": [
              "license                           1.000000\n",
              "neighbourhood_group               1.000000\n",
              "reviews_per_month                 0.510848\n",
              "last_review                       0.510848\n",
              "name                              0.000164\n",
              "longitude                         0.000000\n",
              "host_id                           0.000000\n",
              "host_name                         0.000000\n",
              "neighbourhood                     0.000000\n",
              "latitude                          0.000000\n",
              "room_type                         0.000000\n",
              "number_of_reviews_ltm             0.000000\n",
              "price                             0.000000\n",
              "minimum_nights                    0.000000\n",
              "number_of_reviews                 0.000000\n",
              "calculated_host_listings_count    0.000000\n",
              "availability_365                  0.000000\n",
              "id                                0.000000\n",
              "dtype: float64"
            ]
          },
          "metadata": {},
          "execution_count": 7
        }
      ]
    },
    {
      "cell_type": "code",
      "source": [
        "# mostrando quantidade de valores ausentes por variável\n",
        "(df.isnull().sum()).sort_values(ascending=False)"
      ],
      "metadata": {
        "id": "mAxnr5-Lv21W",
        "colab": {
          "base_uri": "https://localhost:8080/"
        },
        "outputId": "424bc01f-b122-45e4-ec3c-0366ca8fbd4c"
      },
      "execution_count": null,
      "outputs": [
        {
          "output_type": "execute_result",
          "data": {
            "text/plain": [
              "license                           6084\n",
              "neighbourhood_group               6084\n",
              "reviews_per_month                 3108\n",
              "last_review                       3108\n",
              "name                                 1\n",
              "longitude                            0\n",
              "host_id                              0\n",
              "host_name                            0\n",
              "neighbourhood                        0\n",
              "latitude                             0\n",
              "room_type                            0\n",
              "number_of_reviews_ltm                0\n",
              "price                                0\n",
              "minimum_nights                       0\n",
              "number_of_reviews                    0\n",
              "calculated_host_listings_count       0\n",
              "availability_365                     0\n",
              "id                                   0\n",
              "dtype: int64"
            ]
          },
          "metadata": {},
          "execution_count": 8
        }
      ]
    },
    {
      "cell_type": "code",
      "source": [
        "# Excluindo colunas sem valores válidos para a análise\n",
        "df.drop(columns=['neighbourhood_group','license'], inplace=True)\n",
        "\n",
        "# Excluindo linhas com valores ausentes\n",
        "df.dropna(axis=0, inplace=True)"
      ],
      "metadata": {
        "id": "ClYXO_jxLIqd"
      },
      "execution_count": null,
      "outputs": []
    },
    {
      "cell_type": "markdown",
      "metadata": {
        "id": "iHXvvHIxaoNc"
      },
      "source": [
        "### **Outliers** "
      ]
    },
    {
      "cell_type": "markdown",
      "source": [
        "**Há outliers?**\n",
        "\n",
        "Pela distribuição do histograma, é possível verificar indícios da presençã de *outliers*. Olhe por exemplo as variáveis `price` e `minimum_nights`.\n",
        "\n",
        "Os valores não seguem uma distruição, e distorcem toda a representação gráfica. Para confirmar a suspeita, há duas maneiras rápidas que auxiliam a detecção de *outliers*. São elas:\n",
        "\n",
        "* Resumo estatístico por meio do método `describe()`\n",
        "\n",
        "* Plotar `boxplots` para a variável.\n",
        "\n",
        "Em relação a plotagem de **boxplots** referentes as **variáveis suspeitas** foi adotado a estratégia conhecida como **IQR Scores** para definir os **limites superiores e inferiores** de cada variável suspeita, com a finalidade de usar os limites para **definir o corte e remover os outliers**.\n",
        "\n",
        "Assim sendo foi definido para as variáveis `price` e `minimum_nights`: **quartile 1 (Q1) que é o 25%**, **o quartile 3 (Q3) que é o 75%** e o resultado da **IQR**.\n",
        "\n",
        "Depois de realizar o **IQR Scores** nas duas variáveis foram adquiridas as seguintes informações:\n",
        "\n",
        "* `price`\n",
        "<p> A mediana dos preços é 550.0 </p>\n",
        "<p> É preciso excluir preços que estejam a cima de 1675.0 e isso corresponde excluir 270 entradas, tal ação corresponde percentualmente a exclusão de 9.08% do dataset.</p>\n",
        "<p> Além disso é preciso excluir preços que tenha o valor 0.0, porque não tem reserva de hospedagem custando 0.0 .</p>\n",
        "\n",
        "* `minimum_nights`\n",
        "<p> A mediana do mínimo de noites é 6.0 .</p>\n",
        "<p> É preciso excluir mínimo de noites que ultrapasse o valor 16.0, e resultará em excluir 548 entradas ocasionando 18.42% do dataset para a lixeira.</p>\n",
        "\n"
      ],
      "metadata": {
        "id": "cytaQ6ut8pys"
      }
    },
    {
      "cell_type": "code",
      "metadata": {
        "id": "q2wWSfeRbmBo",
        "colab": {
          "base_uri": "https://localhost:8080/",
          "height": 606
        },
        "outputId": "93d7f732-118c-40b7-ca39-bff20f510ccd"
      },
      "source": [
        "# plotar o histograma das variáveis numéricas para entender a distribuição das variáveis\n",
        "df.hist(bins=15, figsize=(15,10));"
      ],
      "execution_count": null,
      "outputs": [
        {
          "output_type": "display_data",
          "data": {
            "image/png": "[encoded data removed]",
            "text/plain": [
              "<Figure size 1080x720 with 12 Axes>"
            ]
          },
          "metadata": {
            "needs_background": "light"
          }
        }
      ]
    },
    {
      "cell_type": "code",
      "source": [
        "df.describe()"
      ],
      "metadata": {
        "colab": {
          "base_uri": "https://localhost:8080/",
          "height": 364
        },
        "id": "IMzERFfvM4Pc",
        "outputId": "5a7af956-50b1-40fc-dafd-3a277bed1deb"
      },
      "execution_count": null,
      "outputs": [
        {
          "output_type": "execute_result",
          "data": {
            "text/html": [
              "\n",
              "  <div id=\"df-d5d689af-5f5c-46eb-a6f1-ef9450432494\">\n",
              "    <div class=\"colab-df-container\">\n",
              "      <div>\n",
              "<style scoped>\n",
              "    .dataframe tbody tr th:only-of-type {\n",
              "        vertical-align: middle;\n",
              "    }\n",
              "\n",
              "    .dataframe tbody tr th {\n",
              "        vertical-align: top;\n",
              "    }\n",
              "\n",
              "    .dataframe thead th {\n",
              "        text-align: right;\n",
              "    }\n",
              "</style>\n",
              "<table border=\"1\" class=\"dataframe\">\n",
              "  <thead>\n",
              "    <tr style=\"text-align: right;\">\n",
              "      <th></th>\n",
              "      <th>id</th>\n",
              "      <th>host_id</th>\n",
              "      <th>latitude</th>\n",
              "      <th>longitude</th>\n",
              "      <th>price</th>\n",
              "      <th>minimum_nights</th>\n",
              "      <th>number_of_reviews</th>\n",
              "      <th>reviews_per_month</th>\n",
              "      <th>calculated_host_listings_count</th>\n",
              "      <th>availability_365</th>\n",
              "      <th>number_of_reviews_ltm</th>\n",
              "    </tr>\n",
              "  </thead>\n",
              "  <tbody>\n",
              "    <tr>\n",
              "      <th>count</th>\n",
              "      <td>2.975000e+03</td>\n",
              "      <td>2.975000e+03</td>\n",
              "      <td>2975.000000</td>\n",
              "      <td>2975.000000</td>\n",
              "      <td>2975.000000</td>\n",
              "      <td>2975.000000</td>\n",
              "      <td>2975.000000</td>\n",
              "      <td>2975.000000</td>\n",
              "      <td>2975.000000</td>\n",
              "      <td>2975.000000</td>\n",
              "      <td>2975.000000</td>\n",
              "    </tr>\n",
              "    <tr>\n",
              "      <th>mean</th>\n",
              "      <td>2.440928e+07</td>\n",
              "      <td>9.569492e+07</td>\n",
              "      <td>22.308010</td>\n",
              "      <td>114.155385</td>\n",
              "      <td>950.109244</td>\n",
              "      <td>9.681345</td>\n",
              "      <td>35.810756</td>\n",
              "      <td>0.851368</td>\n",
              "      <td>23.790588</td>\n",
              "      <td>205.309244</td>\n",
              "      <td>2.825882</td>\n",
              "    </tr>\n",
              "    <tr>\n",
              "      <th>std</th>\n",
              "      <td>1.343600e+07</td>\n",
              "      <td>9.270956e+07</td>\n",
              "      <td>0.053759</td>\n",
              "      <td>0.055363</td>\n",
              "      <td>2274.512970</td>\n",
              "      <td>30.969581</td>\n",
              "      <td>60.571523</td>\n",
              "      <td>1.304726</td>\n",
              "      <td>63.807984</td>\n",
              "      <td>138.501425</td>\n",
              "      <td>9.618300</td>\n",
              "    </tr>\n",
              "    <tr>\n",
              "      <th>min</th>\n",
              "      <td>1.789100e+04</td>\n",
              "      <td>6.906300e+04</td>\n",
              "      <td>22.191120</td>\n",
              "      <td>113.856530</td>\n",
              "      <td>0.000000</td>\n",
              "      <td>1.000000</td>\n",
              "      <td>1.000000</td>\n",
              "      <td>0.010000</td>\n",
              "      <td>1.000000</td>\n",
              "      <td>0.000000</td>\n",
              "      <td>0.000000</td>\n",
              "    </tr>\n",
              "    <tr>\n",
              "      <th>25%</th>\n",
              "      <td>1.367402e+07</td>\n",
              "      <td>2.343832e+07</td>\n",
              "      <td>22.284245</td>\n",
              "      <td>114.153610</td>\n",
              "      <td>300.000000</td>\n",
              "      <td>1.000000</td>\n",
              "      <td>2.000000</td>\n",
              "      <td>0.100000</td>\n",
              "      <td>2.000000</td>\n",
              "      <td>79.000000</td>\n",
              "      <td>0.000000</td>\n",
              "    </tr>\n",
              "    <tr>\n",
              "      <th>50%</th>\n",
              "      <td>2.482411e+07</td>\n",
              "      <td>5.657014e+07</td>\n",
              "      <td>22.298790</td>\n",
              "      <td>114.170910</td>\n",
              "      <td>480.000000</td>\n",
              "      <td>1.000000</td>\n",
              "      <td>10.000000</td>\n",
              "      <td>0.360000</td>\n",
              "      <td>6.000000</td>\n",
              "      <td>180.000000</td>\n",
              "      <td>0.000000</td>\n",
              "    </tr>\n",
              "    <tr>\n",
              "      <th>75%</th>\n",
              "      <td>3.400717e+07</td>\n",
              "      <td>1.515277e+08</td>\n",
              "      <td>22.316185</td>\n",
              "      <td>114.173725</td>\n",
              "      <td>850.000000</td>\n",
              "      <td>7.000000</td>\n",
              "      <td>41.000000</td>\n",
              "      <td>1.060000</td>\n",
              "      <td>16.000000</td>\n",
              "      <td>363.000000</td>\n",
              "      <td>1.000000</td>\n",
              "    </tr>\n",
              "    <tr>\n",
              "      <th>max</th>\n",
              "      <td>5.265662e+07</td>\n",
              "      <td>4.227994e+08</td>\n",
              "      <td>22.551610</td>\n",
              "      <td>114.331160</td>\n",
              "      <td>69967.000000</td>\n",
              "      <td>1125.000000</td>\n",
              "      <td>898.000000</td>\n",
              "      <td>25.330000</td>\n",
              "      <td>384.000000</td>\n",
              "      <td>365.000000</td>\n",
              "      <td>109.000000</td>\n",
              "    </tr>\n",
              "  </tbody>\n",
              "</table>\n",
              "</div>\n",
              "      <button class=\"colab-df-convert\" onclick=\"convertToInteractive('df-d5d689af-5f5c-46eb-a6f1-ef9450432494')\"\n",
              "              title=\"Convert this dataframe to an interactive table.\"\n",
              "              style=\"display:none;\">\n",
              "        \n",
              "  <svg xmlns=\"http://www.w3.org/2000/svg\" height=\"24px\"viewBox=\"0 0 24 24\"\n",
              "       width=\"24px\">\n",
              "    <path d=\"M0 0h24v24H0V0z\" fill=\"none\"/>\n",
              "    <path d=\"M18.56 5.44l.94 2.06.94-2.06 2.06-.94-2.06-.94-.94-2.06-.94 2.06-2.06.94zm-11 1L8.5 8.5l.94-2.06 2.06-.94-2.06-.94L8.5 2.5l-.94 2.06-2.06.94zm10 10l.94 2.06.94-2.06 2.06-.94-2.06-.94-.94-2.06-.94 2.06-2.06.94z\"/><path d=\"M17.41 7.96l-1.37-1.37c-.4-.4-.92-.59-1.43-.59-.52 0-1.04.2-1.43.59L10.3 9.45l-7.72 7.72c-.78.78-.78 2.05 0 2.83L4 21.41c.39.39.9.59 1.41.59.51 0 1.02-.2 1.41-.59l7.78-7.78 2.81-2.81c.8-.78.8-2.07 0-2.86zM5.41 20L4 18.59l7.72-7.72 1.47 1.35L5.41 20z\"/>\n",
              "  </svg>\n",
              "      </button>\n",
              "      \n",
              "  <style>\n",
              "    .colab-df-container {\n",
              "      display:flex;\n",
              "      flex-wrap:wrap;\n",
              "      gap: 12px;\n",
              "    }\n",
              "\n",
              "    .colab-df-convert {\n",
              "      background-color: #E8F0FE;\n",
              "      border: none;\n",
              "      border-radius: 50%;\n",
              "      cursor: pointer;\n",
              "      display: none;\n",
              "      fill: #1967D2;\n",
              "      height: 32px;\n",
              "      padding: 0 0 0 0;\n",
              "      width: 32px;\n",
              "    }\n",
              "\n",
              "    .colab-df-convert:hover {\n",
              "      background-color: #E2EBFA;\n",
              "      box-shadow: 0px 1px 2px rgba(60, 64, 67, 0.3), 0px 1px 3px 1px rgba(60, 64, 67, 0.15);\n",
              "      fill: #174EA6;\n",
              "    }\n",
              "\n",
              "    [theme=dark] .colab-df-convert {\n",
              "      background-color: #3B4455;\n",
              "      fill: #D2E3FC;\n",
              "    }\n",
              "\n",
              "    [theme=dark] .colab-df-convert:hover {\n",
              "      background-color: #434B5C;\n",
              "      box-shadow: 0px 1px 3px 1px rgba(0, 0, 0, 0.15);\n",
              "      filter: drop-shadow(0px 1px 2px rgba(0, 0, 0, 0.3));\n",
              "      fill: #FFFFFF;\n",
              "    }\n",
              "  </style>\n",
              "\n",
              "      <script>\n",
              "        const buttonEl =\n",
              "          document.querySelector('#df-d5d689af-5f5c-46eb-a6f1-ef9450432494 button.colab-df-convert');\n",
              "        buttonEl.style.display =\n",
              "          google.colab.kernel.accessAllowed ? 'block' : 'none';\n",
              "\n",
              "        async function convertToInteractive(key) {\n",
              "          const element = document.querySelector('#df-d5d689af-5f5c-46eb-a6f1-ef9450432494');\n",
              "          const dataTable =\n",
              "            await google.colab.kernel.invokeFunction('convertToInteractive',\n",
              "                                                     [key], {});\n",
              "          if (!dataTable) return;\n",
              "\n",
              "          const docLinkHtml = 'Like what you see? Visit the ' +\n",
              "            '<a target=\"_blank\" href=https://colab.research.google.com/notebooks/data_table.ipynb>data table notebook</a>'\n",
              "            + ' to learn more about interactive tables.';\n",
              "          element.innerHTML = '';\n",
              "          dataTable['output_type'] = 'display_data';\n",
              "          await google.colab.output.renderOutput(dataTable, element);\n",
              "          const docLink = document.createElement('div');\n",
              "          docLink.innerHTML = docLinkHtml;\n",
              "          element.appendChild(docLink);\n",
              "        }\n",
              "      </script>\n",
              "    </div>\n",
              "  </div>\n",
              "  "
            ],
            "text/plain": [
              "                 id       host_id  ...  availability_365  number_of_reviews_ltm\n",
              "count  2.975000e+03  2.975000e+03  ...       2975.000000            2975.000000\n",
              "mean   2.440928e+07  9.569492e+07  ...        205.309244               2.825882\n",
              "std    1.343600e+07  9.270956e+07  ...        138.501425               9.618300\n",
              "min    1.789100e+04  6.906300e+04  ...          0.000000               0.000000\n",
              "25%    1.367402e+07  2.343832e+07  ...         79.000000               0.000000\n",
              "50%    2.482411e+07  5.657014e+07  ...        180.000000               0.000000\n",
              "75%    3.400717e+07  1.515277e+08  ...        363.000000               1.000000\n",
              "max    5.265662e+07  4.227994e+08  ...        365.000000             109.000000\n",
              "\n",
              "[8 rows x 11 columns]"
            ]
          },
          "metadata": {},
          "execution_count": 11
        }
      ]
    },
    {
      "cell_type": "markdown",
      "source": [
        "### **Identificando outliers para variável price**\n"
      ],
      "metadata": {
        "id": "4Uc5-bPNTEhs"
      }
    },
    {
      "cell_type": "code",
      "source": [
        "# definindo quartile 1 (Q1) que é o 25%, definindo quartile 3 (Q3) que é o 75% e obtendo por fim o resultado da IQR\n",
        "q1_price = df.price.quantile(.25)\n",
        "q3_price = df.price.quantile(.75)\n",
        "iqr_price = q3_price - q1_price\n",
        "print (\"O IQR de price é: \", iqr_price)\n",
        "\n",
        "# definindo os limites superior e inferior da variável\n",
        "sup_price = q3_price + 1.5 * iqr_price\n",
        "inf_price = q1_price - 1.5 * iqr_price\n",
        "\n",
        "print (\"O limite superior é: \", sup_price)\n",
        "print (\"O limite inferior é: \", inf_price)\n"
      ],
      "metadata": {
        "colab": {
          "base_uri": "https://localhost:8080/"
        },
        "id": "tT_n1Z1CSO3s",
        "outputId": "ad4d0075-5379-48af-986f-54038ca42db2"
      },
      "execution_count": null,
      "outputs": [
        {
          "output_type": "stream",
          "name": "stdout",
          "text": [
            "O IQR de price é:  550.0\n",
            "O limite superior é:  1675.0\n",
            "O limite inferior é:  -525.0\n"
          ]
        }
      ]
    },
    {
      "cell_type": "code",
      "source": [
        "# verificando conjunto original\n",
        "fig, ax = plt.subplots(figsize=(15,3))\n",
        "df.price.plot(kind=\"box\", vert=False)\n",
        "ax.set_title('Dataset Orgirinal - Price')\n",
        "plt.show()\n",
        "print(\" O dataset possui {} entradas\".format(df.shape[0]))\n",
        "print(\" {} Entradas acima de 1675.0\".format(len(df[df.price > 1675.0])))\n",
        "print(\" Representam {:.2f}% do dataset\".format((len(df[df.price > 1675.0]) / df.shape[0])*100))"
      ],
      "metadata": {
        "colab": {
          "base_uri": "https://localhost:8080/",
          "height": 282
        },
        "id": "MJjL5oF0tf-q",
        "outputId": "1d554f89-6e57-4311-c18d-be5128a9e678"
      },
      "execution_count": null,
      "outputs": [
        {
          "output_type": "display_data",
          "data": {
            "image/png": "[encoded data removed]",
            "text/plain": [
              "<Figure size 1080x216 with 1 Axes>"
            ]
          },
          "metadata": {
            "needs_background": "light"
          }
        },
        {
          "output_type": "stream",
          "name": "stdout",
          "text": [
            " O dataset possui 2975 entradas\n",
            " 270 Entradas acima de 1675.0\n",
            " Representam 9.08% do dataset\n"
          ]
        }
      ]
    },
    {
      "cell_type": "markdown",
      "source": [
        "### **Identificando outliers para variável  minimum_nights**"
      ],
      "metadata": {
        "id": "E1ufDs-ixaRo"
      }
    },
    {
      "cell_type": "code",
      "source": [
        "# definindo quartile 1 (Q1) que é o 25%, definindo quartile 3 (Q3) que é o 75% e obtendo por fim o resultado da IQR\n",
        "q1_minimum_nights = df.minimum_nights.quantile(.25)\n",
        "q3_minimum_nights = df.minimum_nights.quantile(.75)\n",
        "iqr_minimum_nights = q3_minimum_nights - q1_minimum_nights\n",
        "print (\"O IQR de minimum_nights é: \", iqr_minimum_nights)\n",
        "\n",
        "# definindo os limites superior e inferior da variável\n",
        "sup_minimum_nights = q3_minimum_nights + 1.5 * iqr_minimum_nights\n",
        "inf_minimum_nights = q1_minimum_nights - 1.5 * iqr_minimum_nights\n",
        "\n",
        "print (\"O limite superior é: \", sup_minimum_nights)\n",
        "print (\"O limite inferior é: \", inf_minimum_nights)\n"
      ],
      "metadata": {
        "colab": {
          "base_uri": "https://localhost:8080/"
        },
        "id": "7kT0fa9exXX7",
        "outputId": "f35f69aa-84df-43b5-899a-bbbc07f527a5"
      },
      "execution_count": null,
      "outputs": [
        {
          "output_type": "stream",
          "name": "stdout",
          "text": [
            "O IQR de minimum_nights é:  6.0\n",
            "O limite superior é:  16.0\n",
            "O limite inferior é:  -8.0\n"
          ]
        }
      ]
    },
    {
      "cell_type": "code",
      "source": [
        "# verificando conjunto original\n",
        "fig, ax = plt.subplots(figsize=(15,3))\n",
        "df.price.plot(kind=\"box\", vert=False)\n",
        "ax.set_title('Dataset Orgirinal - Minimum Nights')\n",
        "plt.show()\n",
        "print(\" O dataset possui {} entradas\".format(df.shape[0]))\n",
        "print(\" {} Entradas acima de 16.0\".format(len(df[df.minimum_nights > 16.0])))\n",
        "print(\" Representam {:.2f}% do dataset\".format((len(df[df.minimum_nights > 16.0]) /df.shape[0])*100))"
      ],
      "metadata": {
        "colab": {
          "base_uri": "https://localhost:8080/",
          "height": 282
        },
        "id": "YrOhgojxyB0g",
        "outputId": "eab1275c-406c-4bc1-b342-da05a2f326a2"
      },
      "execution_count": null,
      "outputs": [
        {
          "output_type": "display_data",
          "data": {
            "image/png": "[encoded data removed]",
            "text/plain": [
              "<Figure size 1080x216 with 1 Axes>"
            ]
          },
          "metadata": {
            "needs_background": "light"
          }
        },
        {
          "output_type": "stream",
          "name": "stdout",
          "text": [
            " O dataset possui 2975 entradas\n",
            " 548 Entradas acima de 16.0\n",
            " Representam 18.42% do dataset\n"
          ]
        }
      ]
    },
    {
      "cell_type": "markdown",
      "source": [
        "### **Excluindo outiliers**"
      ],
      "metadata": {
        "id": "11-z9NN82fSH"
      }
    },
    {
      "cell_type": "code",
      "source": [
        "# excluindo outiliers do dataset\n",
        "df_clean = df.copy()\n",
        "df_clean.drop(df_clean[df_clean.price > 1675.0].index, axis=0, inplace=True)\n",
        "df_clean.drop(df_clean[df_clean.price == 0.0].index, axis=0, inplace=True)\n",
        "df_clean.drop(df_clean[df_clean.minimum_nights > 16.0].index, axis=0, inplace=True)\n",
        "\n",
        "print(\"Shape antes da limpeza: \", df.shape)\n",
        "print(\"Shape após a limpeza: \", df_clean.shape)"
      ],
      "metadata": {
        "colab": {
          "base_uri": "https://localhost:8080/"
        },
        "id": "9XsUDLzMy8yW",
        "outputId": "339e6f8b-5870-4903-cc7e-adfe686ea6fd"
      },
      "execution_count": null,
      "outputs": [
        {
          "output_type": "stream",
          "name": "stdout",
          "text": [
            "Shape antes da limpeza:  (2975, 16)\n",
            "Shape após a limpeza:  (2184, 16)\n"
          ]
        }
      ]
    },
    {
      "cell_type": "code",
      "source": [
        "# verificando conjunto original\n",
        "fig, ax = plt.subplots(figsize=(15,3))\n",
        "df.price.plot(kind=\"box\", vert=False)\n",
        "ax.set_title('Dataset Orgirinal - Price')\n",
        "plt.show()\n",
        "print(\"O dataset possui {} entradas\".format(df.shape[0]))\n",
        "print(\" {} Entradas acima de 1675.0\".format(len(df[df.price > 1675.0])))\n",
        "print(\" Representam {:.2f}% do dataset\".format((len(df[df.price > 1675.0]) / df.shape[0])*100))"
      ],
      "metadata": {
        "colab": {
          "base_uri": "https://localhost:8080/",
          "height": 282
        },
        "id": "9b1I9wrg1Fhd",
        "outputId": "e63acb27-36a9-4d50-ef2b-e310e6e2bdaa"
      },
      "execution_count": null,
      "outputs": [
        {
          "output_type": "display_data",
          "data": {
            "image/png": "[encoded data removed]",
            "text/plain": [
              "<Figure size 1080x216 with 1 Axes>"
            ]
          },
          "metadata": {
            "needs_background": "light"
          }
        },
        {
          "output_type": "stream",
          "name": "stdout",
          "text": [
            "O dataset possui 2975 entradas\n",
            " 270 Entradas acima de 1675.0\n",
            " Representam 9.08% do dataset\n"
          ]
        }
      ]
    },
    {
      "cell_type": "code",
      "source": [
        "# verificando conjunto limpo\n",
        "fig, ax = plt.subplots(figsize=(15,3))\n",
        "df_clean.price.plot(kind=\"box\", vert=False)\n",
        "ax.set_title('Dataset Limpo - Price')\n",
        "plt.show()\n",
        "print(\"O dataset possui {} entradas\".format(df_clean.shape[0]))\n",
        "print(\" {} Entradas acima de 1675.0\".format(len(df_clean[df_clean.price > 1675.0])))\n",
        "print(\" Representam {:.2f}% do dataset\".format((len(df_clean[df_clean.price > 1675.0]) / df_clean.shape[0])*100))"
      ],
      "metadata": {
        "colab": {
          "base_uri": "https://localhost:8080/",
          "height": 282
        },
        "id": "JGtHijjS1Lik",
        "outputId": "316c7b89-fd89-4378-cbb8-161588eec53a"
      },
      "execution_count": null,
      "outputs": [
        {
          "output_type": "display_data",
          "data": {
            "image/png": "[encoded data removed]",
            "text/plain": [
              "<Figure size 1080x216 with 1 Axes>"
            ]
          },
          "metadata": {
            "needs_background": "light"
          }
        },
        {
          "output_type": "stream",
          "name": "stdout",
          "text": [
            "O dataset possui 2184 entradas\n",
            " 0 Entradas acima de 1675.0\n",
            " Representam 0.00% do dataset\n"
          ]
        }
      ]
    },
    {
      "cell_type": "code",
      "source": [
        "# Verificando as distribuições do conjunto limpo\n",
        "df_clean.describe()"
      ],
      "metadata": {
        "colab": {
          "base_uri": "https://localhost:8080/",
          "height": 364
        },
        "id": "EIQe2ANg104B",
        "outputId": "ac01785a-49bc-45ae-97f7-5d43cea0b854"
      },
      "execution_count": null,
      "outputs": [
        {
          "output_type": "execute_result",
          "data": {
            "text/html": [
              "\n",
              "  <div id=\"df-300336aa-bd1a-4390-824c-5c2bff5d3329\">\n",
              "    <div class=\"colab-df-container\">\n",
              "      <div>\n",
              "<style scoped>\n",
              "    .dataframe tbody tr th:only-of-type {\n",
              "        vertical-align: middle;\n",
              "    }\n",
              "\n",
              "    .dataframe tbody tr th {\n",
              "        vertical-align: top;\n",
              "    }\n",
              "\n",
              "    .dataframe thead th {\n",
              "        text-align: right;\n",
              "    }\n",
              "</style>\n",
              "<table border=\"1\" class=\"dataframe\">\n",
              "  <thead>\n",
              "    <tr style=\"text-align: right;\">\n",
              "      <th></th>\n",
              "      <th>id</th>\n",
              "      <th>host_id</th>\n",
              "      <th>latitude</th>\n",
              "      <th>longitude</th>\n",
              "      <th>price</th>\n",
              "      <th>minimum_nights</th>\n",
              "      <th>number_of_reviews</th>\n",
              "      <th>reviews_per_month</th>\n",
              "      <th>calculated_host_listings_count</th>\n",
              "      <th>availability_365</th>\n",
              "      <th>number_of_reviews_ltm</th>\n",
              "    </tr>\n",
              "  </thead>\n",
              "  <tbody>\n",
              "    <tr>\n",
              "      <th>count</th>\n",
              "      <td>2.184000e+03</td>\n",
              "      <td>2.184000e+03</td>\n",
              "      <td>2184.000000</td>\n",
              "      <td>2184.000000</td>\n",
              "      <td>2184.000000</td>\n",
              "      <td>2184.000000</td>\n",
              "      <td>2184.000000</td>\n",
              "      <td>2184.000000</td>\n",
              "      <td>2184.000000</td>\n",
              "      <td>2184.000000</td>\n",
              "      <td>2184.000000</td>\n",
              "    </tr>\n",
              "    <tr>\n",
              "      <th>mean</th>\n",
              "      <td>2.463395e+07</td>\n",
              "      <td>1.012050e+08</td>\n",
              "      <td>22.311055</td>\n",
              "      <td>114.155091</td>\n",
              "      <td>556.802656</td>\n",
              "      <td>2.224359</td>\n",
              "      <td>39.912088</td>\n",
              "      <td>0.930664</td>\n",
              "      <td>11.887821</td>\n",
              "      <td>196.759615</td>\n",
              "      <td>3.155678</td>\n",
              "    </tr>\n",
              "    <tr>\n",
              "      <th>std</th>\n",
              "      <td>1.326543e+07</td>\n",
              "      <td>9.303130e+07</td>\n",
              "      <td>0.058134</td>\n",
              "      <td>0.054701</td>\n",
              "      <td>342.130357</td>\n",
              "      <td>2.575481</td>\n",
              "      <td>62.807244</td>\n",
              "      <td>1.354606</td>\n",
              "      <td>18.743849</td>\n",
              "      <td>138.727310</td>\n",
              "      <td>10.488767</td>\n",
              "    </tr>\n",
              "    <tr>\n",
              "      <th>min</th>\n",
              "      <td>6.907400e+04</td>\n",
              "      <td>1.601390e+05</td>\n",
              "      <td>22.191120</td>\n",
              "      <td>113.856530</td>\n",
              "      <td>78.000000</td>\n",
              "      <td>1.000000</td>\n",
              "      <td>1.000000</td>\n",
              "      <td>0.010000</td>\n",
              "      <td>1.000000</td>\n",
              "      <td>0.000000</td>\n",
              "      <td>0.000000</td>\n",
              "    </tr>\n",
              "    <tr>\n",
              "      <th>25%</th>\n",
              "      <td>1.387723e+07</td>\n",
              "      <td>2.814068e+07</td>\n",
              "      <td>22.285545</td>\n",
              "      <td>114.153425</td>\n",
              "      <td>300.000000</td>\n",
              "      <td>1.000000</td>\n",
              "      <td>3.000000</td>\n",
              "      <td>0.130000</td>\n",
              "      <td>2.000000</td>\n",
              "      <td>71.000000</td>\n",
              "      <td>0.000000</td>\n",
              "    </tr>\n",
              "    <tr>\n",
              "      <th>50%</th>\n",
              "      <td>2.527044e+07</td>\n",
              "      <td>5.694983e+07</td>\n",
              "      <td>22.299590</td>\n",
              "      <td>114.171010</td>\n",
              "      <td>459.000000</td>\n",
              "      <td>1.000000</td>\n",
              "      <td>13.000000</td>\n",
              "      <td>0.450000</td>\n",
              "      <td>6.000000</td>\n",
              "      <td>180.000000</td>\n",
              "      <td>0.000000</td>\n",
              "    </tr>\n",
              "    <tr>\n",
              "      <th>75%</th>\n",
              "      <td>3.416487e+07</td>\n",
              "      <td>1.635578e+08</td>\n",
              "      <td>22.316617</td>\n",
              "      <td>114.173492</td>\n",
              "      <td>707.000000</td>\n",
              "      <td>2.000000</td>\n",
              "      <td>48.000000</td>\n",
              "      <td>1.190000</td>\n",
              "      <td>14.000000</td>\n",
              "      <td>359.250000</td>\n",
              "      <td>2.000000</td>\n",
              "    </tr>\n",
              "    <tr>\n",
              "      <th>max</th>\n",
              "      <td>5.265662e+07</td>\n",
              "      <td>4.227994e+08</td>\n",
              "      <td>22.551610</td>\n",
              "      <td>114.331160</td>\n",
              "      <td>1670.000000</td>\n",
              "      <td>15.000000</td>\n",
              "      <td>898.000000</td>\n",
              "      <td>25.330000</td>\n",
              "      <td>186.000000</td>\n",
              "      <td>365.000000</td>\n",
              "      <td>109.000000</td>\n",
              "    </tr>\n",
              "  </tbody>\n",
              "</table>\n",
              "</div>\n",
              "      <button class=\"colab-df-convert\" onclick=\"convertToInteractive('df-300336aa-bd1a-4390-824c-5c2bff5d3329')\"\n",
              "              title=\"Convert this dataframe to an interactive table.\"\n",
              "              style=\"display:none;\">\n",
              "        \n",
              "  <svg xmlns=\"http://www.w3.org/2000/svg\" height=\"24px\"viewBox=\"0 0 24 24\"\n",
              "       width=\"24px\">\n",
              "    <path d=\"M0 0h24v24H0V0z\" fill=\"none\"/>\n",
              "    <path d=\"M18.56 5.44l.94 2.06.94-2.06 2.06-.94-2.06-.94-.94-2.06-.94 2.06-2.06.94zm-11 1L8.5 8.5l.94-2.06 2.06-.94-2.06-.94L8.5 2.5l-.94 2.06-2.06.94zm10 10l.94 2.06.94-2.06 2.06-.94-2.06-.94-.94-2.06-.94 2.06-2.06.94z\"/><path d=\"M17.41 7.96l-1.37-1.37c-.4-.4-.92-.59-1.43-.59-.52 0-1.04.2-1.43.59L10.3 9.45l-7.72 7.72c-.78.78-.78 2.05 0 2.83L4 21.41c.39.39.9.59 1.41.59.51 0 1.02-.2 1.41-.59l7.78-7.78 2.81-2.81c.8-.78.8-2.07 0-2.86zM5.41 20L4 18.59l7.72-7.72 1.47 1.35L5.41 20z\"/>\n",
              "  </svg>\n",
              "      </button>\n",
              "      \n",
              "  <style>\n",
              "    .colab-df-container {\n",
              "      display:flex;\n",
              "      flex-wrap:wrap;\n",
              "      gap: 12px;\n",
              "    }\n",
              "\n",
              "    .colab-df-convert {\n",
              "      background-color: #E8F0FE;\n",
              "      border: none;\n",
              "      border-radius: 50%;\n",
              "      cursor: pointer;\n",
              "      display: none;\n",
              "      fill: #1967D2;\n",
              "      height: 32px;\n",
              "      padding: 0 0 0 0;\n",
              "      width: 32px;\n",
              "    }\n",
              "\n",
              "    .colab-df-convert:hover {\n",
              "      background-color: #E2EBFA;\n",
              "      box-shadow: 0px 1px 2px rgba(60, 64, 67, 0.3), 0px 1px 3px 1px rgba(60, 64, 67, 0.15);\n",
              "      fill: #174EA6;\n",
              "    }\n",
              "\n",
              "    [theme=dark] .colab-df-convert {\n",
              "      background-color: #3B4455;\n",
              "      fill: #D2E3FC;\n",
              "    }\n",
              "\n",
              "    [theme=dark] .colab-df-convert:hover {\n",
              "      background-color: #434B5C;\n",
              "      box-shadow: 0px 1px 3px 1px rgba(0, 0, 0, 0.15);\n",
              "      filter: drop-shadow(0px 1px 2px rgba(0, 0, 0, 0.3));\n",
              "      fill: #FFFFFF;\n",
              "    }\n",
              "  </style>\n",
              "\n",
              "      <script>\n",
              "        const buttonEl =\n",
              "          document.querySelector('#df-300336aa-bd1a-4390-824c-5c2bff5d3329 button.colab-df-convert');\n",
              "        buttonEl.style.display =\n",
              "          google.colab.kernel.accessAllowed ? 'block' : 'none';\n",
              "\n",
              "        async function convertToInteractive(key) {\n",
              "          const element = document.querySelector('#df-300336aa-bd1a-4390-824c-5c2bff5d3329');\n",
              "          const dataTable =\n",
              "            await google.colab.kernel.invokeFunction('convertToInteractive',\n",
              "                                                     [key], {});\n",
              "          if (!dataTable) return;\n",
              "\n",
              "          const docLinkHtml = 'Like what you see? Visit the ' +\n",
              "            '<a target=\"_blank\" href=https://colab.research.google.com/notebooks/data_table.ipynb>data table notebook</a>'\n",
              "            + ' to learn more about interactive tables.';\n",
              "          element.innerHTML = '';\n",
              "          dataTable['output_type'] = 'display_data';\n",
              "          await google.colab.output.renderOutput(dataTable, element);\n",
              "          const docLink = document.createElement('div');\n",
              "          docLink.innerHTML = docLinkHtml;\n",
              "          element.appendChild(docLink);\n",
              "        }\n",
              "      </script>\n",
              "    </div>\n",
              "  </div>\n",
              "  "
            ],
            "text/plain": [
              "                 id       host_id  ...  availability_365  number_of_reviews_ltm\n",
              "count  2.184000e+03  2.184000e+03  ...       2184.000000            2184.000000\n",
              "mean   2.463395e+07  1.012050e+08  ...        196.759615               3.155678\n",
              "std    1.326543e+07  9.303130e+07  ...        138.727310              10.488767\n",
              "min    6.907400e+04  1.601390e+05  ...          0.000000               0.000000\n",
              "25%    1.387723e+07  2.814068e+07  ...         71.000000               0.000000\n",
              "50%    2.527044e+07  5.694983e+07  ...        180.000000               0.000000\n",
              "75%    3.416487e+07  1.635578e+08  ...        359.250000               2.000000\n",
              "max    5.265662e+07  4.227994e+08  ...        365.000000             109.000000\n",
              "\n",
              "[8 rows x 11 columns]"
            ]
          },
          "metadata": {},
          "execution_count": 19
        }
      ]
    },
    {
      "cell_type": "code",
      "source": [
        "# Verificando as distribuições estatísticas dos dados limpos\n",
        "df_clean.hist(bins=15, figsize=(15,10));"
      ],
      "metadata": {
        "colab": {
          "base_uri": "https://localhost:8080/",
          "height": 606
        },
        "id": "Avib96qF2QWR",
        "outputId": "d16c1e9f-211d-4934-f6f1-daf571232de4"
      },
      "execution_count": null,
      "outputs": [
        {
          "output_type": "display_data",
          "data": {
            "image/png": "[encoded data removed]",
            "text/plain": [
              "<Figure size 1080x720 with 12 Axes>"
            ]
          },
          "metadata": {
            "needs_background": "light"
          }
        }
      ]
    },
    {
      "cell_type": "markdown",
      "metadata": {
        "id": "7x4aw1j5wNmn"
      },
      "source": [
        "# Análise Exploratória"
      ]
    },
    {
      "cell_type": "markdown",
      "source": [
        "### **Média de Preços de imóveis alugados**"
      ],
      "metadata": {
        "id": "9wj9pWenWByX"
      }
    },
    {
      "cell_type": "markdown",
      "source": [
        "**Qual a média de preços de imóveis alugados?**\n",
        "\n",
        "\n"
      ],
      "metadata": {
        "id": "bYXn-1FiDNVP"
      }
    },
    {
      "cell_type": "code",
      "metadata": {
        "id": "ff-8gUahLk-C",
        "colab": {
          "base_uri": "https://localhost:8080/"
        },
        "outputId": "4b2d1343-43ba-4cf2-8916-e26d7cbbaee6"
      },
      "source": [
        "# ver a média da coluna price\n",
        "df_clean.price.mean()"
      ],
      "execution_count": null,
      "outputs": [
        {
          "output_type": "execute_result",
          "data": {
            "text/plain": [
              "556.8026556776557"
            ]
          },
          "metadata": {},
          "execution_count": 21
        }
      ]
    },
    {
      "cell_type": "markdown",
      "metadata": {
        "id": "7b6RMWpuHKN-"
      },
      "source": [
        "### **Tipo de imóvel mais alugado**\n",
        "\n",
        "A coluna da variável `room_type` indica o tipo de locação que está anunciada no Airbnb. Se você já alugou no site, sabe que existem opções de apartamentos/casas inteiras, apenas o aluguel de um quarto ou mesmo dividir o quarto com outras pessoas.\n",
        "\n",
        "Vamos contar a quantidade de ocorrências de cada tipo de aluguel, usando o método `value_counts()`."
      ]
    },
    {
      "cell_type": "code",
      "metadata": {
        "id": "ueLPNWvPHgfB",
        "colab": {
          "base_uri": "https://localhost:8080/"
        },
        "outputId": "62856ab8-3eda-40d7-fc4c-b7de29087a36"
      },
      "source": [
        "df_clean.room_type.value_counts()"
      ],
      "execution_count": null,
      "outputs": [
        {
          "output_type": "execute_result",
          "data": {
            "text/plain": [
              "Private room       1107\n",
              "Entire home/apt     865\n",
              "Shared room         138\n",
              "Hotel room           74\n",
              "Name: room_type, dtype: int64"
            ]
          },
          "metadata": {},
          "execution_count": 22
        }
      ]
    },
    {
      "cell_type": "markdown",
      "source": [
        "**Qual o tipo de imóvel mais alugado?**\n",
        "\n",
        "* É possível perceber que o aluguel de um quarto  (`Private room`) é o tipo de imóvel mais alugado correspondendo aproximadamente 50% das hospedagem realizadas pelo Airbnb em Hong Kong. \n",
        "* Já apartamentos/casas inteiras (`Entire home/apt`) é segunda melhor pontuada quando tratamos de tipo de imóvel alugado possuindo cerca de 39% da fatia de reservas realizadas.\n",
        "* Para o pessoas que curtem viajar em grupo e se aventurar em dividir o quarto com outras pessoas (`Shared room`) saibam que esse tipo de hospedagem têm aproximadamente 0,6% de presença em hospedagens em Hong Kong.\n",
        "* E a revelação da análise é que quarto em hotel (`Hotel room `) têm apenas 0,3% de hospedagens, assim sendo, número considerável de usuários ao acessar o Airbnb buscando alugar imóveis de anfitriões."
      ],
      "metadata": {
        "id": "sDPOmE0EDs-7"
      }
    },
    {
      "cell_type": "code",
      "metadata": {
        "id": "EvwoO-XAHhIm",
        "colab": {
          "base_uri": "https://localhost:8080/"
        },
        "outputId": "2bd5f78b-214e-4ea2-f758-1bee52d44a2f"
      },
      "source": [
        "# mostrar a porcentagem de cada tipo de imóvel disponível\n",
        "percentual_tipo_imovel = df_clean['room_type'].value_counts() / df_clean.shape[0]\n",
        "print((df_clean['room_type'].value_counts() / df_clean.shape[0]))"
      ],
      "execution_count": null,
      "outputs": [
        {
          "output_type": "stream",
          "name": "stdout",
          "text": [
            "Private room       0.506868\n",
            "Entire home/apt    0.396062\n",
            "Shared room        0.063187\n",
            "Hotel room         0.033883\n",
            "Name: room_type, dtype: float64\n"
          ]
        }
      ]
    },
    {
      "cell_type": "code",
      "source": [
        "plt.figure(figsize = (16,8))\n",
        "sns.barplot(x = percentual_tipo_imovel.values, y = percentual_tipo_imovel.index, orient = \"h\", palette = \"terrain\")\n",
        "plt.ylabel('Imóveis')             \n",
        "plt.xlabel(\"\\nPorcentagem de cada tipo de imóvel (%)\")\n",
        "plt.title('\\nTipos de Imóveis\\n')\n",
        "plt.show()"
      ],
      "metadata": {
        "colab": {
          "base_uri": "https://localhost:8080/",
          "height": 554
        },
        "id": "Q32bY5vcVSo0",
        "outputId": "8b837282-31a7-4864-d031-5a4fe9630bdb"
      },
      "execution_count": null,
      "outputs": [
        {
          "output_type": "display_data",
          "data": {
            "image/png": "[encoded data removed]",
            "text/plain": [
              "<Figure size 1152x576 with 1 Axes>"
            ]
          },
          "metadata": {
            "needs_background": "light"
          }
        }
      ]
    },
    {
      "cell_type": "markdown",
      "metadata": {
        "id": "MFa5NbnLJMcd"
      },
      "source": [
        "### **Localidades mais caras**"
      ]
    },
    {
      "cell_type": "markdown",
      "source": [
        "**Quais os bairros mais caros e baratos disponíveis em Hong Kong?**\n",
        "\n",
        "Uma maneira de se verificar uma variável em função da outra é usando `groupby()`. No caso, queremos comparar os bairros (*neighbourhoods*) a partir do preço de locação."
      ],
      "metadata": {
        "id": "fq6o4FZcIZiM"
      }
    },
    {
      "cell_type": "code",
      "metadata": {
        "id": "MD_xa143JZpi",
        "colab": {
          "base_uri": "https://localhost:8080/"
        },
        "outputId": "298c8aac-8a1e-4951-adc6-14244f0a774c"
      },
      "source": [
        "# ver preços por bairros, na média\n",
        "df_clean.groupby(['neighbourhood']).price.mean().sort_values(ascending=False)[:10]\n"
      ],
      "execution_count": null,
      "outputs": [
        {
          "output_type": "execute_result",
          "data": {
            "text/plain": [
              "neighbourhood\n",
              "Kwai Tsing           982.250000\n",
              "Kwun Tong            953.200000\n",
              "Islands              806.903030\n",
              "Southern             752.250000\n",
              "Central & Western    709.913043\n",
              "Tsuen Wan            688.333333\n",
              "Sai Kung             685.000000\n",
              "Sham Shui Po         647.615385\n",
              "Wong Tai Sin         633.000000\n",
              "Kowloon City         613.867470\n",
              "Name: price, dtype: float64"
            ]
          },
          "metadata": {},
          "execution_count": 30
        }
      ]
    },
    {
      "cell_type": "markdown",
      "source": [
        "### **Localidades mais baratas**"
      ],
      "metadata": {
        "id": "1OVFWZUMdjQY"
      }
    },
    {
      "cell_type": "code",
      "source": [
        "# ver os bairros mais baratos\n",
        "df_clean.groupby(['neighbourhood']).price.mean().sort_values(ascending=False)[10:]"
      ],
      "metadata": {
        "id": "OwIZIiQj6Mc3",
        "colab": {
          "base_uri": "https://localhost:8080/"
        },
        "outputId": "239e3169-c06c-45e9-cff2-bcc8002f49a6"
      },
      "execution_count": null,
      "outputs": [
        {
          "output_type": "execute_result",
          "data": {
            "text/plain": [
              "neighbourhood\n",
              "Wan Chai         607.587983\n",
              "Tai Po           570.266667\n",
              "Eastern          557.461538\n",
              "North            488.968254\n",
              "Yau Tsim Mong    471.922535\n",
              "Tuen Mun         464.900000\n",
              "Sha Tin          456.333333\n",
              "Yuen Long        415.550000\n",
              "Name: price, dtype: float64"
            ]
          },
          "metadata": {},
          "execution_count": 33
        }
      ]
    },
    {
      "cell_type": "markdown",
      "source": [
        "### **Imóveis pela latitude-longitude**\n",
        "\n"
      ],
      "metadata": {
        "id": "71NQfDunceOi"
      }
    },
    {
      "cell_type": "markdown",
      "source": [
        "**Como está distribuído por localidade os bairros que hospedam turistas em Hong Kong?**\n",
        "\n",
        "Como são fornecidas as Latitudes e Longitudes para os imóveis, é possível plotar cada ponto. Para isso, considera-se x = longitude e y = latitude"
      ],
      "metadata": {
        "id": "aSdg3BL8JJ5j"
      }
    },
    {
      "cell_type": "code",
      "metadata": {
        "id": "UxVJqJ_3W59I",
        "colab": {
          "base_uri": "https://localhost:8080/",
          "height": 577
        },
        "outputId": "03a0f731-a5fe-49f1-cce4-767f28a9f6ff"
      },
      "source": [
        "# plotar os imóveis pela latitude-longitude\n",
        "df_clean.plot(kind=\"scatter\", x='longitude', y='latitude', alpha=0.4, c=df_clean['price'],\n",
        "              s=8, cmap=plt.get_cmap('jet'), figsize=(15,10));"
      ],
      "execution_count": null,
      "outputs": [
        {
          "output_type": "display_data",
          "data": {
            "image/png": "[encoded data removed]",
            "text/plain": [
              "<Figure size 1080x720 with 2 Axes>"
            ]
          },
          "metadata": {
            "needs_background": "light"
          }
        }
      ]
    },
    {
      "cell_type": "markdown",
      "metadata": {
        "id": "vTneAMRUYvr1"
      },
      "source": [
        "### **A média do mínimo de noites de hospedagem**"
      ]
    },
    {
      "cell_type": "markdown",
      "source": [
        "**Qual a média de noites de hospedagem?**\n",
        "\n",
        "Uma maneira de responder a pergunta é usando `mean()`. No caso, queremos saber a média de noites de hospedagem, assim sendo, saberemos o mínimo de noites."
      ],
      "metadata": {
        "id": "T7_-r5xRJRRA"
      }
    },
    {
      "cell_type": "code",
      "metadata": {
        "id": "_VzNhrEgY82N",
        "colab": {
          "base_uri": "https://localhost:8080/"
        },
        "outputId": "ccf18a13-5c72-4888-e695-be50897cbdb0"
      },
      "source": [
        "# ver a média da coluna `minimum_nights``\n",
        "df_clean.minimum_nights.mean()"
      ],
      "execution_count": null,
      "outputs": [
        {
          "output_type": "execute_result",
          "data": {
            "text/plain": [
              "2.2243589743589745"
            ]
          },
          "metadata": {},
          "execution_count": 28
        }
      ]
    },
    {
      "cell_type": "markdown",
      "metadata": {
        "id": "GkvAg623RjoR"
      },
      "source": [
        "# Conclusões\n"
      ]
    },
    {
      "cell_type": "markdown",
      "metadata": {
        "id": "rbZ3Hsy9Ypw8"
      },
      "source": [
        "A análise efetuada na base de dados do Airbnb conseguimos percebeu que existem *outliers* em algumas das variáveis, e número considerável de valores ausentes, assim sendo o dataset é composto de dados que podem distorcer as informações estatísticas de alguns atributos. \n",
        "\n",
        "Em um mercado movido a propriedades como Hong Kong, o Airbnb definitivamente ganhou popularidade. Hong Kong tem sido constantemente classificada entre as 10 cidades mais caras para se viver, um lugar com uma abundância de turistas preocupados com os custos.\n",
        "\n",
        "Assim sendo, a análise disponibilizada oferece caminho para os turistas tomarem decisões em quais localidades se encaixam no orçamento para a viagem. \n",
        "\n",
        "Ademais, as perguntas respondidas no decorrer do caminho de análise exploratória oferece informação valiosa para conhecimento superficial a respeito da configuração do cenário de hospedagem da Airbnb em Hong Kong\n",
        "\n",
        "\n"
      ]
    },
    {
      "cell_type": "code",
      "source": [
        ""
      ],
      "metadata": {
        "id": "lpCinN9Wn1kU"
      },
      "execution_count": null,
      "outputs": []
    }
  ]
}